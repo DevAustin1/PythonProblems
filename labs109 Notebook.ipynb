{
 "cells": [
  {
   "cell_type": "markdown",
   "metadata": {},
   "source": [
    "## labs109 Notebook\n",
    "\n",
    "Notebook to test and work through problems "
   ]
  },
  {
   "cell_type": "markdown",
   "metadata": {},
   "source": [
    "#### Import needed libraries"
   ]
  },
  {
   "cell_type": "code",
   "execution_count": 21,
   "metadata": {},
   "outputs": [],
   "source": [
    "import labs109 as lb\n",
    "import tester109\n",
    "from importlib import reload\n"
   ]
  },
  {
   "cell_type": "markdown",
   "metadata": {},
   "source": [
    "#### Notes"
   ]
  },
  {
   "cell_type": "code",
   "execution_count": 19,
   "metadata": {},
   "outputs": [
    {
     "data": {
      "text/plain": [
       "'F'"
      ]
     },
     "execution_count": 19,
     "metadata": {},
     "output_type": "execute_result"
    }
   ],
   "source": [
    "reload(lb)\n",
    "lb.ryerson_letter_grade(20)"
   ]
  },
  {
   "cell_type": "markdown",
   "metadata": {},
   "source": [
    "### Answer Checker"
   ]
  },
  {
   "cell_type": "code",
   "execution_count": 26,
   "metadata": {},
   "outputs": [
    {
     "name": "stdout",
     "output_type": "stream",
     "text": [
      "109 Python Problems tester, November 3, 2022, Ilkka Kokkarinen.\n",
      "Student file labs109.py contains 1 recognized functions to test.\n",
      "Finished reading expected answers.\n",
      "ryerson_letter_grade: Success in 0.001 seconds.\n",
      "1 out of 1 functions of 123 possible work.\n"
     ]
    },
    {
     "data": {
      "text/plain": [
       "<module 'tester109' from 'c:\\\\Users\\\\austid\\\\OneDrive - University of Delaware - o365\\\\Documents\\\\Git Reposi\\\\PythonProblems\\\\tester109.py'>"
      ]
     },
     "execution_count": 26,
     "metadata": {},
     "output_type": "execute_result"
    }
   ],
   "source": [
    "reload(lb)\n",
    "reload(tester109)"
   ]
  }
 ],
 "metadata": {
  "kernelspec": {
   "display_name": "Python 3.8.10 ('testingPackages')",
   "language": "python",
   "name": "python3"
  },
  "language_info": {
   "codemirror_mode": {
    "name": "ipython",
    "version": 3
   },
   "file_extension": ".py",
   "mimetype": "text/x-python",
   "name": "python",
   "nbconvert_exporter": "python",
   "pygments_lexer": "ipython3",
   "version": "3.8.10"
  },
  "orig_nbformat": 4,
  "vscode": {
   "interpreter": {
    "hash": "0a7891efd9e2e9b9bbb7b2808f671685772f48857c39e002ab491a4f9c901f09"
   }
  }
 },
 "nbformat": 4,
 "nbformat_minor": 2
}
